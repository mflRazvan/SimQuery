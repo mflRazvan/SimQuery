{
 "cells": [
  {
   "metadata": {},
   "cell_type": "markdown",
   "source": "# Text Similarity with GPT-2 (version 1)",
   "id": "a72494e30a765261"
  },
  {
   "metadata": {},
   "cell_type": "markdown",
   "source": "## 1. Fine-tuning GPT-2 for Text Similarity",
   "id": "f61c723babf06850"
  },
  {
   "metadata": {
    "ExecuteTime": {
     "end_time": "2024-11-07T09:05:14.705573Z",
     "start_time": "2024-11-07T08:58:42.087358Z"
    }
   },
   "cell_type": "code",
   "source": [
    "import torch\n",
    "from torch.utils.data import DataLoader\n",
    "from transformers import GPT2Tokenizer, GPT2ForSequenceClassification, Trainer, TrainingArguments\n",
    "from datasets import load_dataset, DatasetDict, concatenate_datasets\n",
    "\n",
    "# Check if CUDA is available and set the device\n",
    "device = torch.device(\"cuda\" if torch.cuda.is_available() else \"cpu\")\n",
    "\n",
    "# Load the readerbench dataset\n",
    "dataset = load_dataset(\"readerbench/ro_fake_news\", \"eda\")\n",
    "\n",
    "considered_tag_words = ['5g', 'vaccinare', 'controlul']\n",
    "\n",
    "\n",
    "# Use only \"headline\" and \"body\" for the text and \"tags\" for similarity labels\n",
    "def preprocess_data(example):\n",
    "    # Combine the headline and body to form the input text\n",
    "    example['text'] = example['headline'] + \" \" + example['body']\n",
    "\n",
    "    # Check the 'tags' field\n",
    "    tags = example['tags']\n",
    "    # print(f\"Tags Field: {tags}\")  # Debugging the tags field\n",
    "\n",
    "    # Check if any of the considered tag words appear in example['tags']\n",
    "    found = any(word in tags.lower() for word in considered_tag_words) if tags else False\n",
    "    example['label'] = 1.0 if found else 0.0\n",
    "\n",
    "    # Debugging print statements\n",
    "    # print(f\"Processed Example -> Tags: {tags} | Found: {found} | Label: {example['label']}\")\n",
    "\n",
    "    return example\n",
    "\n",
    "\n",
    "# Apply preprocessing to each subset in the dataset\n",
    "dataset = dataset.map(preprocess_data)\n",
    "\n",
    "# Concatenate all subsets (train, validation, test) into a single dataset\n",
    "combined_dataset = concatenate_datasets([dataset[\"train\"], dataset[\"validation\"], dataset[\"test\"]])\n",
    "\n",
    "# Split the combined dataset into a new train and validation set\n",
    "dataset_split = combined_dataset.train_test_split(test_size=0.1)\n",
    "train_data = dataset_split[\"train\"]\n",
    "eval_data = dataset_split[\"test\"]\n",
    "\n",
    "# Load the GPT-2 tokenizer and model for sequence classification\n",
    "tokenizer = GPT2Tokenizer.from_pretrained(\"gpt2\")\n",
    "model = GPT2ForSequenceClassification.from_pretrained(\"gpt2\", num_labels=1)\n",
    "\n",
    "# Add a pad token to the tokenizer and model\n",
    "tokenizer.pad_token = tokenizer.eos_token\n",
    "model.config.pad_token_id = tokenizer.eos_token_id\n",
    "\n",
    "# Move the model to the GPU\n",
    "model.to(device)\n",
    "\n",
    "# Tokenize the data\n",
    "def tokenize_data(example):\n",
    "    encoding = tokenizer(\n",
    "        example['text'],\n",
    "        truncation=True,\n",
    "        padding=\"max_length\",\n",
    "        max_length=512,\n",
    "    )\n",
    "    encoding['labels'] = example['label']\n",
    "    return encoding\n",
    "\n",
    "\n",
    "# Apply tokenization to train and validation sets\n",
    "train_data = train_data.map(tokenize_data)\n",
    "eval_data = eval_data.map(tokenize_data)\n",
    "\n",
    "train_data.set_format(type='torch', columns=['input_ids', 'attention_mask', 'labels'])\n",
    "eval_data.set_format(type='torch', columns=['input_ids', 'attention_mask', 'labels'])\n",
    "\n",
    "# Define training arguments\n",
    "training_args = TrainingArguments(\n",
    "    output_dir=\"../gpt2-similarity\",\n",
    "    evaluation_strategy=\"epoch\",\n",
    "    learning_rate=2e-5,\n",
    "    per_device_train_batch_size=4,\n",
    "    num_train_epochs=3,\n",
    "    weight_decay=0.01,\n",
    ")\n",
    "\n",
    "# Define the trainer\n",
    "trainer = Trainer(\n",
    "    model=model,\n",
    "    args=training_args,\n",
    "    train_dataset=train_data,\n",
    "    eval_dataset=eval_data,\n",
    ")\n",
    "\n",
    "# Fine-tune the model\n",
    "trainer.train()\n",
    "\n",
    "# Save the model and tokenizer\n",
    "model.save_pretrained(\"./gpt2-similarity\")\n",
    "tokenizer.save_pretrained(\"./gpt2-similarity\")\n",
    "\n",
    "\n",
    "# Testing the fine-tuned model with a custom prompt\n",
    "def calculate_similarity(prompt, ground_truth_text):\n",
    "    # Tokenize inputs and move them to the GPU if available\n",
    "    inputs = tokenizer(prompt + \" \" + ground_truth_text, return_tensors=\"pt\", truncation=True, padding=\"max_length\",\n",
    "                       max_length=512).to(device)\n",
    "\n",
    "    # Run inference\n",
    "    with torch.no_grad():\n",
    "        outputs = model(**inputs)\n",
    "        similarity_score = torch.sigmoid(outputs.logits).item()  # Convert logits to probability\n",
    "    return similarity_score\n",
    "\n",
    "\n",
    "# Example usage\n",
    "prompt = \"This is a new article about Romanian politics.\"\n",
    "ground_truth_text = \"Some fake news headline and body text.\"\n",
    "similarity = calculate_similarity(prompt, ground_truth_text)\n",
    "print(f\"Similarity score between prompt and ground truth: {similarity:.2f}\")\n"
   ],
   "id": "a6766d23b9659618",
   "outputs": [
    {
     "name": "stderr",
     "output_type": "stream",
     "text": [
      "C:\\global_envs\\pytorch_env\\Lib\\site-packages\\tqdm\\auto.py:21: TqdmWarning: IProgress not found. Please update jupyter and ipywidgets. See https://ipywidgets.readthedocs.io/en/stable/user_install.html\n",
      "  from .autonotebook import tqdm as notebook_tqdm\n",
      "Some weights of GPT2ForSequenceClassification were not initialized from the model checkpoint at gpt2 and are newly initialized: ['score.weight']\n",
      "You should probably TRAIN this model on a down-stream task to be able to use it for predictions and inference.\n",
      "Map: 100%|██████████| 527/527 [00:02<00:00, 225.76 examples/s]\n",
      "Map: 100%|██████████| 59/59 [00:00<00:00, 168.65 examples/s]\n",
      "C:\\global_envs\\pytorch_env\\Lib\\site-packages\\transformers\\training_args.py:1568: FutureWarning: `evaluation_strategy` is deprecated and will be removed in version 4.46 of 🤗 Transformers. Use `eval_strategy` instead\n",
      "  warnings.warn(\n"
     ]
    },
    {
     "data": {
      "text/plain": [
       "<IPython.core.display.HTML object>"
      ],
      "text/html": [
       "\n",
       "    <div>\n",
       "      \n",
       "      <progress value='396' max='396' style='width:300px; height:20px; vertical-align: middle;'></progress>\n",
       "      [396/396 06:12, Epoch 3/3]\n",
       "    </div>\n",
       "    <table border=\"1\" class=\"dataframe\">\n",
       "  <thead>\n",
       " <tr style=\"text-align: left;\">\n",
       "      <th>Epoch</th>\n",
       "      <th>Training Loss</th>\n",
       "      <th>Validation Loss</th>\n",
       "    </tr>\n",
       "  </thead>\n",
       "  <tbody>\n",
       "    <tr>\n",
       "      <td>1</td>\n",
       "      <td>No log</td>\n",
       "      <td>0.186267</td>\n",
       "    </tr>\n",
       "    <tr>\n",
       "      <td>2</td>\n",
       "      <td>No log</td>\n",
       "      <td>0.159469</td>\n",
       "    </tr>\n",
       "    <tr>\n",
       "      <td>3</td>\n",
       "      <td>No log</td>\n",
       "      <td>0.145629</td>\n",
       "    </tr>\n",
       "  </tbody>\n",
       "</table><p>"
      ]
     },
     "metadata": {},
     "output_type": "display_data"
    },
    {
     "name": "stdout",
     "output_type": "stream",
     "text": [
      "Similarity score between prompt and ground truth: 0.98\n"
     ]
    }
   ],
   "execution_count": 1
  },
  {
   "metadata": {},
   "cell_type": "markdown",
   "source": "## 2. Loading and Testing the Fine-Tuned Model",
   "id": "b978f3625e8fc953"
  },
  {
   "cell_type": "code",
   "id": "initial_id",
   "metadata": {
    "collapsed": true,
    "ExecuteTime": {
     "end_time": "2024-11-07T09:05:43.035773Z",
     "start_time": "2024-11-07T09:05:42.144446Z"
    }
   },
   "source": [
    "import torch\n",
    "from transformers import GPT2Tokenizer, GPT2ForSequenceClassification\n",
    "\n",
    "# Load the tokenizer and model\n",
    "tokenizer = GPT2Tokenizer.from_pretrained(\"../gpt2-similarity\")\n",
    "model = GPT2ForSequenceClassification.from_pretrained(\"../gpt2-similarity\")\n",
    "\n",
    "# Move model to GPU if available\n",
    "device = torch.device(\"cuda\" if torch.cuda.is_available() else \"cpu\")\n",
    "model.to(device)\n",
    "\n",
    "# Define a function to calculate similarity\n",
    "def calculate_similarity(prompt, ground_truth_text):\n",
    "    inputs = tokenizer(prompt + \" \" + ground_truth_text, return_tensors=\"pt\", truncation=True, padding=\"max_length\", max_length=512)\n",
    "    inputs = {key: value.to(device) for key, value in inputs.items()}  # Move inputs to GPU\n",
    "    with torch.no_grad():\n",
    "        outputs = model(**inputs)\n",
    "        similarity_score = torch.sigmoid(outputs.logits).item()  # Convert logits to probability\n",
    "    return similarity_score\n",
    "\n",
    "def test_similarity(prompt, ground_truth_text):\n",
    "    similarity = calculate_similarity(prompt, ground_truth_text)\n",
    "    print(f\"Similarity score between prompt and ground truth: {similarity:.2f}\")\n",
    "\n",
    "# Test the model with a custom prompt and ground truth\n",
    "prompt1 = \"In Regatul Unit se răspândește un val de teorii ale conspirației despre COVID-19 si 5G.\"\n",
    "prompt2 = \"Regatul Unit, la fel ca multe alte state, se confruntă cu o creștere a numărului de teorii ale conspirației. Conspirații care variază de la ideea că virusul COVID-19 nu există la teoria că a fost creat în laborator de către chinezi pentru un război biologic, până la teoria că există o legătură între rețelele de tip 5G și virus, împreună cu multe altele, au fost propagate cu ușurință în spațiul virtual, majoritatea prin intermediul platformelor de social media\"\n",
    "prompt3 = \"In Regatul Unit nu se răspândește niciun val de teorii ale conspirației despre COVID-19 si 5G.\"\n",
    "ground_truth_text = \"Regatul Unit, la fel ca multe alte state, se confruntă cu o creștere a numărului de teorii ale conspirației. Conspirații care variază de la ideea că virusul COVID-19 nu există la teoria că a fost creat în laborator de către chinezi pentru un război biologic, până la teoria că există o legătură între rețelele de tip 5G și virus, împreună cu multe altele, au fost propagate cu ușurință în spațiul virtual, majoritatea prin intermediul platformelor de social media\"\n",
    "\n",
    "test_similarity(prompt1, ground_truth_text)\n",
    "test_similarity(prompt2, ground_truth_text)\n",
    "test_similarity(prompt3, ground_truth_text)"
   ],
   "outputs": [
    {
     "name": "stdout",
     "output_type": "stream",
     "text": [
      "Similarity score between prompt and ground truth: 0.60\n",
      "Similarity score between prompt and ground truth: 0.52\n",
      "Similarity score between prompt and ground truth: 0.60\n"
     ]
    }
   ],
   "execution_count": 3
  },
  {
   "metadata": {},
   "cell_type": "markdown",
   "source": "## 3. Checking for GPU Availability",
   "id": "7d4e8ffc84ddfef8"
  },
  {
   "metadata": {
    "ExecuteTime": {
     "end_time": "2024-11-07T08:54:30.429304Z",
     "start_time": "2024-11-07T08:54:30.412724Z"
    }
   },
   "cell_type": "code",
   "source": [
    "import torch\n",
    "print(torch.cuda.is_available())  # Should return True if a GPU is available\n",
    "print(torch.cuda.device_count())  # Number of GPUs available\n",
    "print(torch.cuda.current_device())  # Index of the current GPU"
   ],
   "id": "9c2640f45eeb148c",
   "outputs": [
    {
     "name": "stdout",
     "output_type": "stream",
     "text": [
      "True\n",
      "1\n",
      "0\n"
     ]
    }
   ],
   "execution_count": 2
  }
 ],
 "metadata": {
  "kernelspec": {
   "display_name": "Python 3",
   "language": "python",
   "name": "python3"
  },
  "language_info": {
   "codemirror_mode": {
    "name": "ipython",
    "version": 2
   },
   "file_extension": ".py",
   "mimetype": "text/x-python",
   "name": "python",
   "nbconvert_exporter": "python",
   "pygments_lexer": "ipython2",
   "version": "2.7.6"
  }
 },
 "nbformat": 4,
 "nbformat_minor": 5
}
