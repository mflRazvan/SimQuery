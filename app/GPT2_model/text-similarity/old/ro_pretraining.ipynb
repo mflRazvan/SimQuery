{
 "cells": [
  {
   "cell_type": "code",
   "id": "initial_id",
   "metadata": {
    "collapsed": true,
    "ExecuteTime": {
     "end_time": "2024-11-14T08:49:22.597904Z",
     "start_time": "2024-11-14T08:32:41.206098Z"
    }
   },
   "source": [
    "import os\n",
    "import torch\n",
    "from datasets import load_dataset\n",
    "from transformers import GPT2Tokenizer, GPT2LMHeadModel, Trainer, TrainingArguments\n",
    "\n",
    "data_limit_ratio = 0.01\n",
    "train_ratio = 0.9\n",
    "\n",
    "# Set the GPU device (e.g., use the first GPU)\n",
    "os.environ[\"CUDA_VISIBLE_DEVICES\"] = \"0\"\n",
    "\n",
    "# Check if CUDA is available and set the device\n",
    "device = torch.device(\"cuda\" if torch.cuda.is_available() else \"cpu\")\n",
    "\n",
    "# Load the Romanian dataset with trust_remote_code=True\n",
    "dataset = load_dataset(\"oscar\", \"unshuffled_deduplicated_ro\", split=\"train[:1%]\", trust_remote_code=True)\n",
    "\n",
    "# Load the pre-trained GPT-2 tokenizer and model\n",
    "tokenizer = GPT2Tokenizer.from_pretrained(\"gpt2\")\n",
    "model = GPT2LMHeadModel.from_pretrained(\"gpt2\")\n",
    "\n",
    "# Tokenize the dataset\n",
    "def tokenize_function(examples):\n",
    "    return tokenizer(examples[\"text\"], truncation=True, padding=\"max_length\", max_length=512)\n",
    "\n",
    "# Set the padding token\n",
    "tokenizer.pad_token = tokenizer.eos_token\n",
    "\n",
    "# Limit the dataset\n",
    "dataset = dataset.select(range(int(data_limit_ratio * len(dataset))))\n",
    "\n",
    "# Tokenize the dataset\n",
    "tokenized_datasets = dataset.map(tokenize_function, batched=True, remove_columns=[\"text\"])\n",
    "\n",
    "# Split the dataset into train and validation sets\n",
    "train_size = int(train_ratio * len(tokenized_datasets))\n",
    "train_dataset = tokenized_datasets.select(range(train_size))\n",
    "eval_dataset = tokenized_datasets.select(range(train_size, len(tokenized_datasets)))\n",
    "\n",
    "# Set the format for PyTorch\n",
    "train_dataset.set_format(\"torch\", columns=[\"input_ids\", \"attention_mask\"])\n",
    "eval_dataset.set_format(\"torch\", columns=[\"input_ids\", \"attention_mask\"])\n",
    "\n",
    "# Add labels to the datasets\n",
    "def add_labels(examples):\n",
    "    examples[\"labels\"] = examples[\"input_ids\"].clone()\n",
    "    return examples\n",
    "\n",
    "train_dataset = train_dataset.map(add_labels, batched=True)\n",
    "eval_dataset = eval_dataset.map(add_labels, batched=True)\n",
    "\n",
    "# Define training arguments\n",
    "training_args = TrainingArguments(\n",
    "    output_dir=\"./gpt2-romanian\",\n",
    "    evaluation_strategy=\"epoch\",\n",
    "    learning_rate=5e-5,\n",
    "    per_device_train_batch_size=8,\n",
    "    per_device_eval_batch_size=8,\n",
    "    num_train_epochs=3,\n",
    "    weight_decay=0.01,\n",
    "    fp16=True,\n",
    ")\n",
    "\n",
    "# Initialize the Trainer\n",
    "trainer = Trainer(\n",
    "    model=model.to(device),\n",
    "    args=training_args,\n",
    "    train_dataset=train_dataset,\n",
    "    eval_dataset=eval_dataset,\n",
    ")\n",
    "\n",
    "# Fine-tune the model\n",
    "trainer.train()\n",
    "\n",
    "# Save the fine-tuned model and tokenizer\n",
    "model.save_pretrained(\"./gpt2-romanian\")\n",
    "tokenizer.save_pretrained(\"./gpt2-romanian\")"
   ],
   "outputs": [
    {
     "data": {
      "text/plain": [
       "<IPython.core.display.HTML object>"
      ],
      "text/html": [
       "\n",
       "    <div>\n",
       "      \n",
       "      <progress value='171' max='171' style='width:300px; height:20px; vertical-align: middle;'></progress>\n",
       "      [171/171 15:52, Epoch 3/3]\n",
       "    </div>\n",
       "    <table border=\"1\" class=\"dataframe\">\n",
       "  <thead>\n",
       " <tr style=\"text-align: left;\">\n",
       "      <th>Epoch</th>\n",
       "      <th>Training Loss</th>\n",
       "      <th>Validation Loss</th>\n",
       "    </tr>\n",
       "  </thead>\n",
       "  <tbody>\n",
       "    <tr>\n",
       "      <td>1</td>\n",
       "      <td>No log</td>\n",
       "      <td>2.467347</td>\n",
       "    </tr>\n",
       "    <tr>\n",
       "      <td>2</td>\n",
       "      <td>No log</td>\n",
       "      <td>2.341413</td>\n",
       "    </tr>\n",
       "    <tr>\n",
       "      <td>3</td>\n",
       "      <td>No log</td>\n",
       "      <td>2.306812</td>\n",
       "    </tr>\n",
       "  </tbody>\n",
       "</table><p>"
      ]
     },
     "metadata": {},
     "output_type": "display_data"
    },
    {
     "data": {
      "text/plain": [
       "('./gpt2-romanian\\\\tokenizer_config.json',\n",
       " './gpt2-romanian\\\\special_tokens_map.json',\n",
       " './gpt2-romanian\\\\vocab.json',\n",
       " './gpt2-romanian\\\\merges.txt',\n",
       " './gpt2-romanian\\\\added_tokens.json')"
      ]
     },
     "execution_count": 8,
     "metadata": {},
     "output_type": "execute_result"
    }
   ],
   "execution_count": 8
  },
  {
   "metadata": {
    "ExecuteTime": {
     "end_time": "2024-11-14T09:14:22.740813Z",
     "start_time": "2024-11-14T09:14:20.066110Z"
    }
   },
   "cell_type": "code",
   "source": [
    "import torch\n",
    "from transformers import GPT2Tokenizer, GPT2LMHeadModel\n",
    "\n",
    "# Load the pre-trained GPT-2 model and tokenizer from the web\n",
    "pretrained_tokenizer = GPT2Tokenizer.from_pretrained(\"gpt2\")\n",
    "pretrained_model = GPT2LMHeadModel.from_pretrained(\"gpt2\")\n",
    "\n",
    "# Load the fine-tuned model and tokenizer\n",
    "model_path = \"./gpt2-romanian\"\n",
    "finetuned_tokenizer = GPT2Tokenizer.from_pretrained(model_path)\n",
    "finetuned_model = GPT2LMHeadModel.from_pretrained(model_path)\n",
    "\n",
    "# Set the pad token to eos token\n",
    "pretrained_tokenizer.pad_token = pretrained_tokenizer.eos_token\n",
    "finetuned_tokenizer.pad_token = finetuned_tokenizer.eos_token\n",
    "\n",
    "# Set the device to GPU if available\n",
    "device = torch.device(\"cuda\" if torch.cuda.is_available() else \"cpu\")\n",
    "pretrained_model.to(device)\n",
    "finetuned_model.to(device)\n",
    "\n",
    "# Function to generate text with top-k sampling and repetition penalty\n",
    "def generate_text(model, tokenizer, prompt, max_length=50, top_k=50, top_p=0.95, repetition_penalty=1.2):\n",
    "    inputs = tokenizer(prompt, return_tensors=\"pt\", padding=True, truncation=True).to(device)\n",
    "    outputs = model.generate(\n",
    "        inputs[\"input_ids\"],\n",
    "        attention_mask=inputs[\"attention_mask\"],\n",
    "        max_length=max_length,\n",
    "        pad_token_id=tokenizer.eos_token_id,\n",
    "        num_return_sequences=1,\n",
    "        top_k=top_k,\n",
    "        top_p=top_p,\n",
    "        repetition_penalty=repetition_penalty\n",
    "    )\n",
    "    return tokenizer.decode(outputs[0], skip_special_tokens=True)\n",
    "\n",
    "def compare_generation(pretrained_model, finetuned_model, tokenizer, prompt, max_length=50):\n",
    "    print(\"Prompt:\", prompt)\n",
    "    print(\"Pre-trained model:\", generate_text(pretrained_model, tokenizer, prompt, max_length))\n",
    "    print(\"Fine-tuned model:\", generate_text(finetuned_model, tokenizer, prompt, max_length))\n",
    "    print()\n",
    "\n",
    "# Example prompt\n",
    "prompt1 = \"România este o țară frumoasă\"\n",
    "prompt2 = \"It's a beautiful day\"\n",
    "\n",
    "# Generate text using the pre-trained and fine-tuned models\n",
    "compare_generation(pretrained_model, finetuned_model, pretrained_tokenizer, prompt1)\n",
    "compare_generation(pretrained_model, finetuned_model, pretrained_tokenizer, prompt2)"
   ],
   "id": "c95b993d0125c3a2",
   "outputs": [
    {
     "name": "stdout",
     "output_type": "stream",
     "text": [
      "Prompt: România este o țară frumoasă\n"
     ]
    },
    {
     "name": "stderr",
     "output_type": "stream",
     "text": [
      "C:\\global_envs\\pytorch_env\\Lib\\site-packages\\transformers\\generation\\configuration_utils.py:595: UserWarning: `do_sample` is set to `False`. However, `top_p` is set to `0.95` -- this flag is only used in sample-based generation modes. You should set `do_sample=True` or unset `top_p`.\n",
      "  warnings.warn(\n"
     ]
    },
    {
     "name": "stdout",
     "output_type": "stream",
     "text": [
      "Pre-trained model: România este o țară frumoasă, quia esta ei sunt.\n",
      "The first of these is the one that was called \"the Lord's\" (cf., Rom 1:16).\n",
      "Fine-tuned model: România este o țară frumoasă, în cetate de la voritatea sunt aproximat.\n",
      "Într-o mai nu pe care au\n",
      "\n",
      "Prompt: It's a beautiful day\n",
      "Pre-trained model: It's a beautiful day, and I'm so happy to be here. It was such an amazing experience.\"\n",
      "- The New York Times\n",
      "Fine-tuned model: It's a beautiful day, I'm so happy to be here. It was an amazing experience!\n",
      "\n"
     ]
    }
   ],
   "execution_count": 16
  },
  {
   "metadata": {},
   "cell_type": "code",
   "outputs": [],
   "execution_count": null,
   "source": "",
   "id": "1a498d7eb4b3ed17"
  }
 ],
 "metadata": {
  "kernelspec": {
   "display_name": "Python 3",
   "language": "python",
   "name": "python3"
  },
  "language_info": {
   "codemirror_mode": {
    "name": "ipython",
    "version": 2
   },
   "file_extension": ".py",
   "mimetype": "text/x-python",
   "name": "python",
   "nbconvert_exporter": "python",
   "pygments_lexer": "ipython2",
   "version": "2.7.6"
  }
 },
 "nbformat": 4,
 "nbformat_minor": 5
}
