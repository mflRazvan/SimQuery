{
 "cells": [
  {
   "metadata": {
    "ExecuteTime": {
     "end_time": "2025-01-16T22:27:17.689148Z",
     "start_time": "2025-01-16T22:27:06.605072Z"
    }
   },
   "cell_type": "code",
   "source": [
    "import numpy as np\n",
    "import faiss\n",
    "from sentence_transformers import SentenceTransformer\n",
    "\n",
    "# Load the original and fine-tuned SBERT models\n",
    "original_model = SentenceTransformer('stsb-bert-large')\n",
    "fine_tuned_model = SentenceTransformer('fine_tuned_sbert_model')\n"
   ],
   "id": "acd7b3b90c91dbe8",
   "outputs": [],
   "execution_count": 26
  },
  {
   "metadata": {
    "ExecuteTime": {
     "end_time": "2025-01-16T19:49:10.654273Z",
     "start_time": "2025-01-16T19:49:09.704571Z"
    }
   },
   "cell_type": "code",
   "source": [
    "# Example sentences for similarity test\n",
    "query = \"Donald Trump recently visited the United Kingdom.\"\n",
    "documents = [\n",
    "    \"The President of the United States has just made a trip to the UK.\", # Rephrased version of the query\n",
    "    \"The UK was visited by the President of the United States.\", # Rephrased version of the query\n",
    "    \"Trump has made some allegations about the UK.\", # Slightly modified version\n",
    "    \"The new prime minister of the UK has been elected.\", # Predominantly unrelated\n",
    "    \"The ONU congress discusses about US foreign policy.\", # Predominantly unrelated\n",
    "    \"The sun is shining.\", # Completely unrelated\n",
    "    \"Recipe for a delicious cake.\" # Completely unrelated\n",
    "]\n",
    "\n",
    "# Generate embeddings for the documents and query\n",
    "original_doc_embeddings = original_model.encode(documents)\n",
    "fine_tuned_doc_embeddings = fine_tuned_model.encode(documents)\n",
    "query_embedding = original_model.encode([query])  # Using original model for the query\n",
    "\n",
    "# Normalize embeddings (important for cosine similarity with FAISS)\n",
    "original_doc_embeddings = original_doc_embeddings / np.linalg.norm(original_doc_embeddings, axis=1, keepdims=True)\n",
    "fine_tuned_doc_embeddings = fine_tuned_doc_embeddings / np.linalg.norm(fine_tuned_doc_embeddings, axis=1, keepdims=True)\n",
    "query_embedding = query_embedding / np.linalg.norm(query_embedding, axis=1, keepdims=True)\n",
    "\n",
    "# Create a FAISS index for original and fine-tuned embeddings\n",
    "dimension = original_doc_embeddings.shape[1]\n",
    "index_original = faiss.IndexFlatIP(dimension)  # Inner product (cosine similarity)\n",
    "index_fine_tuned = faiss.IndexFlatIP(dimension)\n",
    "\n",
    "# Add embeddings to the FAISS index\n",
    "index_original.add(np.array(original_doc_embeddings))\n",
    "index_fine_tuned.add(np.array(fine_tuned_doc_embeddings))\n",
    "\n",
    "# Search the index for the most similar document\n",
    "k = len(documents)\n",
    "distances_original, indices_original = index_original.search(np.array(query_embedding), k)\n",
    "distances_fine_tuned, indices_fine_tuned = index_fine_tuned.search(np.array(query_embedding), k)\n",
    "\n",
    "# Print the results\n",
    "print(\"Original SBERT Model Similarity Test:\")\n",
    "print(f\"Query: {query}\")\n",
    "print(f\"Top {k} most similar documents (Original SBERT):\")\n",
    "for i, idx in enumerate(indices_original[0]):\n",
    "    print(f\"{i+1}. {documents[idx]} -> {distances_original[0][i]:.4f}\")\n",
    "print()\n",
    "\n",
    "print(\"Fine-tuned SBERT Model Similarity Test:\")\n",
    "print(f\"Query: {query}\")\n",
    "print(f\"Top {k} most similar documents (Fine-tuned SBERT):\")\n",
    "for i, idx in enumerate(indices_fine_tuned[0]):\n",
    "    print(f\"{i+1}. {documents[idx]} -> {distances_fine_tuned[0][i]:.4f}\")"
   ],
   "id": "21f4e1efdd0f7321",
   "outputs": [
    {
     "name": "stdout",
     "output_type": "stream",
     "text": [
      "Original SBERT Model Similarity Test:\n",
      "Query: Donald Trump recently visited the United Kingdom.\n",
      "Top 7 most similar documents (Original SBERT):\n",
      "1. Trump has made some allegations about the UK. -> 0.6444\n",
      "2. The President of the United States has just made a trip to the UK. -> 0.6125\n",
      "3. The UK was visited by the President of the United States. -> 0.5527\n",
      "4. The new prime minister of the UK has been elected. -> 0.5304\n",
      "5. The ONU congress discusses about US foreign policy. -> 0.1229\n",
      "6. Recipe for a delicious cake. -> 0.0819\n",
      "7. The sun is shining. -> 0.0553\n",
      "\n",
      "Fine-tuned SBERT Model Similarity Test:\n",
      "Query: Donald Trump recently visited the United Kingdom.\n",
      "Top 7 most similar documents (Fine-tuned SBERT):\n",
      "1. Trump has made some allegations about the UK. -> 0.5561\n",
      "2. The President of the United States has just made a trip to the UK. -> 0.5218\n",
      "3. The new prime minister of the UK has been elected. -> 0.5120\n",
      "4. The UK was visited by the President of the United States. -> 0.5087\n",
      "5. The ONU congress discusses about US foreign policy. -> 0.1190\n",
      "6. Recipe for a delicious cake. -> 0.0895\n",
      "7. The sun is shining. -> 0.0776\n"
     ]
    }
   ],
   "execution_count": 2
  },
  {
   "metadata": {
    "ExecuteTime": {
     "end_time": "2025-01-16T21:50:36.687268Z",
     "start_time": "2025-01-16T21:50:36.343417Z"
    }
   },
   "cell_type": "code",
   "source": [
    "from sentence_transformers import SentenceTransformer\n",
    "import faiss\n",
    "import numpy as np\n",
    "from IPython.core.display import display, HTML\n",
    "from termcolor import colored\n",
    "\n",
    "gt = \"TikTok CEO Shou Chew has been invited to and is expected to attend President-elect Donald Trump’s inauguration Monday, according to three sources familiar with the matter, two of whom are Trump transition officials. Chew was invited by the president-elect's team and will sit on the dais in front of the Capitol where Trump will be sworn in as president. Chew is expected to sit alongside the CEOs and leaders of other Big Tech platforms, including Tesla and SpaceX CEO Elon Musk, Amazon founder Jeff Bezos and Meta CEO Mark Zuckerberg, according to one of the officials. Google CEO Sundar Pichai is also planning to attend and sit with the other executives, one Trump transition official said. NBC News has reached out to representatives of TikTok and Google for comment. TikTok declined to comment and Google did not immediately respond. The New York Times was the first outlet to report about Chew’s inauguration attendance. Chew’s attendance comes as the popular TikTok app is preparing to possibly shut down Sunday, the day a U.S. ban is set to go into effect if the Supreme Court doesn’t overrule it. The nine justices on the conservative-majority court heard oral arguments last week about whether to implement the ban that was passed by Congress and signed into law by President Joe Biden last year. Remarks and questions by the justices during the arguments suggested it was likely they would uphold the law that would effectively ban the platform.\"\n",
    "\n",
    "# prompt = \"TikTok CEO Shou Chew is expected to attend President-elect Donald Trump’s inauguration.\"\n",
    "\n",
    "prompt = \"CEO of Google Sundar Pichai is planning to attend the inauguration.\"\n",
    "\n",
    "# Function to highlight and calculate top-k similar sentences\n",
    "def highlight_top_k_sentences(model, prompt, ground_truth, k, display_results=True):\n",
    "    \"\"\"\n",
    "    Highlights the top-k most similar sentences from the ground truth or calculates the highest similarity score.\n",
    "\n",
    "    Args:\n",
    "        model: SentenceTransformer model.\n",
    "        prompt: The input prompt (string).\n",
    "        ground_truth: The ground truth text containing multiple sentences (string).\n",
    "        k: Number of top sentences to retrieve.\n",
    "        display_results: Whether to display the highlighted text and scores (boolean).\n",
    "\n",
    "    Returns:\n",
    "        max_similarity: The highest similarity score (float).\n",
    "    \"\"\"\n",
    "    # Step 1: Split the ground truth into sentences\n",
    "    sentences = ground_truth.split('.')\n",
    "    sentences = [s.strip() for s in sentences if s.strip()]\n",
    "\n",
    "    # Step 2: Embed the sentences and the prompt\n",
    "    sentence_embeddings = model.encode(sentences, convert_to_tensor=False, normalize_embeddings=True)\n",
    "    prompt_embedding = model.encode([prompt], convert_to_tensor=False, normalize_embeddings=True)\n",
    "\n",
    "    # Step 3: Build the FAISS index\n",
    "    dimension = sentence_embeddings.shape[1]\n",
    "    index = faiss.IndexFlatIP(dimension)  # Inner product (cosine similarity since embeddings are normalized)\n",
    "    index.add(sentence_embeddings)\n",
    "\n",
    "    # Step 4: Perform the search for top-k most similar sentences\n",
    "    similarity_scores, indices = index.search(prompt_embedding, k)\n",
    "    similarity_scores = similarity_scores[0]\n",
    "    indices = indices[0]\n",
    "\n",
    "    # Step 5: Handle highlighting and display if requested\n",
    "    max_similarity = max(similarity_scores)\n",
    "    if display_results:\n",
    "        highlighted_text = \"\"\n",
    "        for i, sentence in enumerate(sentences):\n",
    "            if i in indices:\n",
    "                score = similarity_scores[np.where(indices == i)[0][0]]\n",
    "                # Determine color intensity based on similarity\n",
    "                intensity = int(score * 255)\n",
    "                color = f'rgb({255-intensity}, {255-intensity}, 255)'  # Light blue intensity gradient\n",
    "                highlighted_sentence = f'<span style=\"background-color: {color}; border-radius: 5px; padding: 2px;\">{sentence} <sup>({score:.2f})</sup></span>'\n",
    "            else:\n",
    "                highlighted_sentence = sentence\n",
    "            highlighted_text += highlighted_sentence + '. '\n",
    "\n",
    "        # Display the table\n",
    "        table_html = f\"\"\"\n",
    "        <table style=\"width: 100%; border-collapse: collapse; font-family: Arial;\">\n",
    "            <tr>\n",
    "                <th style=\"width: 50%; text-align: left; border-bottom: 1px solid #ddd;\">Ground Truth</th>\n",
    "                <th style=\"width: 30%; text-align: left; border-bottom: 1px solid #ddd;\">Prompt</th>\n",
    "                <th style=\"width: 20%; text-align: left; border-bottom: 1px solid #ddd;\">Highest Similarity</th>\n",
    "            </tr>\n",
    "            <tr>\n",
    "                <td style=\"text-align: justify; vertical-align: top; padding: 10px; border-bottom: 1px solid #ddd;\">{highlighted_text}</td>\n",
    "                <td style=\"text-align: justify; vertical-align: top; padding: 10px; border-bottom: 1px solid #ddd;\">{prompt}</td>\n",
    "                <td style=\"text-align: justify; vertical-align: top; padding: 10px; border-bottom: 1px solid #ddd;\">{max_similarity:.2f}</td>\n",
    "            </tr>\n",
    "        </table>\n",
    "        \"\"\"\n",
    "        display(HTML(table_html))\n",
    "\n",
    "    # Step 6: Return the highest similarity score\n",
    "    return max_similarity\n",
    "\n",
    "# Example usage\n",
    "max_similarity = highlight_top_k_sentences(original_model, prompt, gt, k=3, display_results=True)\n",
    "print(f\"Highest similarity score: {max_similarity:.2f}\")"
   ],
   "id": "955fd4247e57b89",
   "outputs": [
    {
     "name": "stderr",
     "output_type": "stream",
     "text": [
      "C:\\Users\\Stefan\\AppData\\Local\\Temp\\ipykernel_27100\\3565052634.py:4: DeprecationWarning: Importing display from IPython.core.display is deprecated since IPython 7.14, please import from IPython.display\n",
      "  from IPython.core.display import display, HTML\n"
     ]
    },
    {
     "data": {
      "text/plain": [
       "<IPython.core.display.HTML object>"
      ],
      "text/html": [
       "\n",
       "        <table style=\"width: 100%; border-collapse: collapse; font-family: Arial;\">\n",
       "            <tr>\n",
       "                <th style=\"width: 50%; text-align: left; border-bottom: 1px solid #ddd;\">Ground Truth</th>\n",
       "                <th style=\"width: 30%; text-align: left; border-bottom: 1px solid #ddd;\">Prompt</th>\n",
       "                <th style=\"width: 20%; text-align: left; border-bottom: 1px solid #ddd;\">Highest Similarity</th>\n",
       "            </tr>\n",
       "            <tr>\n",
       "                <td style=\"text-align: justify; vertical-align: top; padding: 10px; border-bottom: 1px solid #ddd;\"><span style=\"background-color: rgb(119, 119, 255); border-radius: 5px; padding: 2px;\">TikTok CEO Shou Chew has been invited to and is expected to attend President-elect Donald Trump’s inauguration Monday, according to three sources familiar with the matter, two of whom are Trump transition officials <sup>(0.54)</sup></span>. Chew was invited by the president-elect's team and will sit on the dais in front of the Capitol where Trump will be sworn in as president. <span style=\"background-color: rgb(132, 132, 255); border-radius: 5px; padding: 2px;\">Chew is expected to sit alongside the CEOs and leaders of other Big Tech platforms, including Tesla and SpaceX CEO Elon Musk, Amazon founder Jeff Bezos and Meta CEO Mark Zuckerberg, according to one of the officials <sup>(0.48)</sup></span>. <span style=\"background-color: rgb(78, 78, 255); border-radius: 5px; padding: 2px;\">Google CEO Sundar Pichai is also planning to attend and sit with the other executives, one Trump transition official said <sup>(0.70)</sup></span>. NBC News has reached out to representatives of TikTok and Google for comment. TikTok declined to comment and Google did not immediately respond. The New York Times was the first outlet to report about Chew’s inauguration attendance. Chew’s attendance comes as the popular TikTok app is preparing to possibly shut down Sunday, the day a U. S. ban is set to go into effect if the Supreme Court doesn’t overrule it. The nine justices on the conservative-majority court heard oral arguments last week about whether to implement the ban that was passed by Congress and signed into law by President Joe Biden last year. Remarks and questions by the justices during the arguments suggested it was likely they would uphold the law that would effectively ban the platform. </td>\n",
       "                <td style=\"text-align: justify; vertical-align: top; padding: 10px; border-bottom: 1px solid #ddd;\">CEO of Google Sundar Pichai is planning to attend the inauguration.</td>\n",
       "                <td style=\"text-align: justify; vertical-align: top; padding: 10px; border-bottom: 1px solid #ddd;\">0.70</td>\n",
       "            </tr>\n",
       "        </table>\n",
       "        "
      ]
     },
     "metadata": {},
     "output_type": "display_data"
    },
    {
     "name": "stdout",
     "output_type": "stream",
     "text": [
      "Highest similarity score: 0.70\n"
     ]
    }
   ],
   "execution_count": 25
  }
 ],
 "metadata": {
  "kernelspec": {
   "display_name": "Python 3",
   "language": "python",
   "name": "python3"
  },
  "language_info": {
   "codemirror_mode": {
    "name": "ipython",
    "version": 2
   },
   "file_extension": ".py",
   "mimetype": "text/x-python",
   "name": "python",
   "nbconvert_exporter": "python",
   "pygments_lexer": "ipython2",
   "version": "2.7.6"
  }
 },
 "nbformat": 4,
 "nbformat_minor": 5
}
