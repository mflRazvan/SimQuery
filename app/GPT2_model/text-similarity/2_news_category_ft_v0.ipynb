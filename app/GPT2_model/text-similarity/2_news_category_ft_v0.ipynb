{
 "cells": [
  {
   "metadata": {},
   "cell_type": "markdown",
   "source": "# GPT-2 Fine-Tuning for News Category Classification",
   "id": "f8a360f431f2f8b9"
  },
  {
   "metadata": {},
   "cell_type": "markdown",
   "source": "### 0. Prerequisites",
   "id": "3748412471900c15"
  },
  {
   "metadata": {},
   "cell_type": "markdown",
   "source": "#### 0.1. Install the Required Libraries",
   "id": "6bbbd831f7673d64"
  },
  {
   "metadata": {
    "ExecuteTime": {
     "end_time": "2024-12-11T21:39:02.246987Z",
     "start_time": "2024-12-11T21:38:52.673258Z"
    }
   },
   "cell_type": "code",
   "source": [
    "import json\n",
    "import random\n",
    "import pandas as pd\n",
    "import torch\n",
    "from torch.utils.data import DataLoader\n",
    "from transformers import (\n",
    "    GPT2Tokenizer,\n",
    "    GPT2ForSequenceClassification,\n",
    "    Trainer,\n",
    "    TrainingArguments,\n",
    "    GPT2LMHeadModel\n",
    ")\n",
    "from datasets import Dataset, DatasetDict\n",
    "\n",
    "from sklearn.metrics import mean_squared_error, mean_absolute_error, r2_score\n",
    "from scipy.stats import pearsonr, spearmanr\n",
    "import matplotlib.pyplot as plt\n",
    "import numpy as np\n",
    "\n",
    "# Kaggle Dataset Path\n",
    "import kagglehub"
   ],
   "id": "e0aa6db54271e7cb",
   "outputs": [
    {
     "name": "stderr",
     "output_type": "stream",
     "text": [
      "C:\\Users\\Stefan\\Documents\\GitHub\\UBB-CS-Projects\\Semestrul 5\\MIRPR\\projects-queryminds\\GPT2_model\\.venv\\Lib\\site-packages\\tqdm\\auto.py:21: TqdmWarning: IProgress not found. Please update jupyter and ipywidgets. See https://ipywidgets.readthedocs.io/en/stable/user_install.html\n",
      "  from .autonotebook import tqdm as notebook_tqdm\n"
     ]
    }
   ],
   "execution_count": 1
  },
  {
   "metadata": {},
   "cell_type": "markdown",
   "source": "#### 0.2. Constants and Hyperparameters",
   "id": "9f18ab2775392c4d"
  },
  {
   "metadata": {
    "ExecuteTime": {
     "end_time": "2024-12-11T21:39:02.258739Z",
     "start_time": "2024-12-11T21:39:02.252898Z"
    }
   },
   "cell_type": "code",
   "source": [
    "# Parameters\n",
    "data_fraction_ratio = 0.002\n",
    "train_ratio = 0.9\n",
    "same_category_similarity = 0.2\n",
    "same_category_instances = 1\n",
    "different_category_instances = 1\n",
    "load_local_model = True"
   ],
   "id": "ddfdd93606c98622",
   "outputs": [],
   "execution_count": 2
  },
  {
   "metadata": {},
   "cell_type": "markdown",
   "source": "#### 0.3. Check GPU Availability",
   "id": "b41233d69f86873d"
  },
  {
   "metadata": {
    "ExecuteTime": {
     "end_time": "2024-12-11T21:39:02.627151Z",
     "start_time": "2024-12-11T21:39:02.585548Z"
    }
   },
   "cell_type": "code",
   "source": [
    "device = torch.device(\"cuda\" if torch.cuda.is_available() else \"cpu\")\n",
    "print(\"CUDA Available:\", torch.cuda.is_available())\n",
    "print(\"Number of GPUs:\", torch.cuda.device_count())\n",
    "print(\"Current Device:\", torch.cuda.current_device())\n",
    "print(\"Device:\", device)"
   ],
   "id": "a2ce85620cc265f6",
   "outputs": [
    {
     "name": "stdout",
     "output_type": "stream",
     "text": [
      "CUDA Available: True\n",
      "Number of GPUs: 1\n",
      "Current Device: 0\n",
      "Device: cuda\n"
     ]
    }
   ],
   "execution_count": 3
  },
  {
   "metadata": {},
   "cell_type": "markdown",
   "source": "### 1. Load and Preprocess the Dataset",
   "id": "b1f2d13bb102273d"
  },
  {
   "metadata": {},
   "cell_type": "markdown",
   "source": "#### 1.1. Load the Dataset into a DataFrame",
   "id": "924cfe554e7c2a22"
  },
  {
   "metadata": {
    "ExecuteTime": {
     "end_time": "2024-12-11T21:39:04.682779Z",
     "start_time": "2024-12-11T21:39:02.642649Z"
    }
   },
   "cell_type": "code",
   "source": [
    "# Load the dataset\n",
    "path = kagglehub.dataset_download(\"rmisra/news-category-dataset\")\n",
    "dataset_path = f\"{path}/News_Category_Dataset_v3.json\"\n",
    "\n",
    "# Load and preprocess the dataset\n",
    "print(\"Loading dataset...\")\n",
    "with open(dataset_path, \"r\", encoding=\"utf-8\") as f:\n",
    "    raw_data = [json.loads(line) for line in f]\n",
    "\n",
    "# Convert raw data into a DataFrame\n",
    "data_df = pd.DataFrame(raw_data)"
   ],
   "id": "ae86a999ffe57523",
   "outputs": [
    {
     "name": "stdout",
     "output_type": "stream",
     "text": [
      "Loading dataset...\n"
     ]
    }
   ],
   "execution_count": 4
  },
  {
   "metadata": {},
   "cell_type": "markdown",
   "source": "#### 1.2. Filter Categories by applying a Fraction Ratio",
   "id": "86b82d639e906bf0"
  },
  {
   "metadata": {
    "ExecuteTime": {
     "end_time": "2024-12-11T21:39:05.111981Z",
     "start_time": "2024-12-11T21:39:04.706390Z"
    }
   },
   "cell_type": "code",
   "source": [
    "# Filter categories\n",
    "categories = [\n",
    "    \"POLITICS\", \"WELLNESS\", \"ENTERTAINMENT\", \"TRAVEL\", \"STYLE & BEAUTY\", \"PARENTING\",\n",
    "    \"HEALTHY LIVING\", \"QUEER VOICES\", \"FOOD & DRINK\", \"BUSINESS\", \"COMEDY\", \"SPORTS\",\n",
    "    \"BLACK VOICES\", \"HOME & LIVING\", \"PARENTS\"\n",
    "]\n",
    "\n",
    "filtered_data = []\n",
    "for category in categories:\n",
    "    category_data = data_df[data_df[\"category\"] == category]\n",
    "    sample_size = max(1, int(len(category_data) * data_fraction_ratio))\n",
    "    filtered_data.extend(category_data.sample(sample_size).to_dict(orient=\"records\"))\n",
    "    print(f\"Selected {sample_size} examples out of {len(category_data)} from category {category}.\")\n",
    "\n",
    "print(f\"Selected {len(filtered_data)} examples across {len(categories)} categories.\")"
   ],
   "id": "fbbea37d68d8e6a0",
   "outputs": [
    {
     "name": "stdout",
     "output_type": "stream",
     "text": [
      "Selected 71 examples out of 35602 from category POLITICS.\n",
      "Selected 35 examples out of 17945 from category WELLNESS.\n",
      "Selected 34 examples out of 17362 from category ENTERTAINMENT.\n",
      "Selected 19 examples out of 9900 from category TRAVEL.\n",
      "Selected 19 examples out of 9814 from category STYLE & BEAUTY.\n",
      "Selected 17 examples out of 8791 from category PARENTING.\n",
      "Selected 13 examples out of 6694 from category HEALTHY LIVING.\n",
      "Selected 12 examples out of 6347 from category QUEER VOICES.\n",
      "Selected 12 examples out of 6340 from category FOOD & DRINK.\n",
      "Selected 11 examples out of 5992 from category BUSINESS.\n",
      "Selected 10 examples out of 5400 from category COMEDY.\n",
      "Selected 10 examples out of 5077 from category SPORTS.\n",
      "Selected 9 examples out of 4583 from category BLACK VOICES.\n",
      "Selected 8 examples out of 4320 from category HOME & LIVING.\n",
      "Selected 7 examples out of 3955 from category PARENTS.\n",
      "Selected 287 examples across 15 categories.\n"
     ]
    }
   ],
   "execution_count": 5
  },
  {
   "metadata": {},
   "cell_type": "markdown",
   "source": "#### 1.3. Create Labeled Pairs",
   "id": "484933e69cfd17ad"
  },
  {
   "metadata": {
    "ExecuteTime": {
     "end_time": "2024-12-11T21:39:05.149624Z",
     "start_time": "2024-12-11T21:39:05.130305Z"
    }
   },
   "cell_type": "code",
   "source": [
    "# Function to create labeled pairs\n",
    "def create_labeled_pairs(data):\n",
    "    all_descriptions = {item[\"category\"]: [] for item in data}\n",
    "    for item in data:\n",
    "        all_descriptions[item[\"category\"]].append(item[\"short_description\"])\n",
    "\n",
    "    pairs = []\n",
    "    for item in data:\n",
    "        # Similar pair\n",
    "        pairs.append({\n",
    "            \"text\": item[\"headline\"] + \" => \" + item[\"short_description\"],\n",
    "            \"label\": 1.0\n",
    "        })\n",
    "\n",
    "        # Dissimilar pairs\n",
    "        same_category_desc = random.sample(\n",
    "            all_descriptions[item[\"category\"]], min(same_category_instances, len(all_descriptions[item[\"category\"]]) - 1)\n",
    "        )\n",
    "        for desc in same_category_desc:\n",
    "            if desc != item[\"short_description\"]:  # Avoid identical pairs\n",
    "                pairs.append({\n",
    "                    \"text\": item[\"headline\"] + \" => \" + desc,\n",
    "                    \"label\": same_category_similarity\n",
    "                })\n",
    "\n",
    "        other_categories = [cat for cat in all_descriptions if cat != item[\"category\"]]\n",
    "        other_category_desc = random.choices(\n",
    "            [desc for cat in other_categories for desc in all_descriptions[cat]], k=different_category_instances\n",
    "        )\n",
    "        for desc in other_category_desc:\n",
    "            pairs.append({\n",
    "                \"text\": item[\"headline\"] + \" => \" + desc,\n",
    "                \"label\": 0.0\n",
    "            })\n",
    "    return pairs\n",
    "\n",
    "# Create labeled pairs\n",
    "labeled_data = create_labeled_pairs(filtered_data)\n",
    "print(f\"Generated {len(labeled_data)} labeled pairs.\")\n",
    "\n",
    "# Convert to DataFrame\n",
    "processed_df = pd.DataFrame(labeled_data)"
   ],
   "id": "7ea6949254c8c1f0",
   "outputs": [
    {
     "name": "stdout",
     "output_type": "stream",
     "text": [
      "Generated 846 labeled pairs.\n"
     ]
    }
   ],
   "execution_count": 6
  },
  {
   "metadata": {},
   "cell_type": "markdown",
   "source": "#### 1.4. Split the Data into Train and Validation Sets",
   "id": "b32e562ea6f6269d"
  },
  {
   "metadata": {
    "ExecuteTime": {
     "end_time": "2024-12-11T21:39:05.236736Z",
     "start_time": "2024-12-11T21:39:05.187764Z"
    }
   },
   "cell_type": "code",
   "source": [
    "# Split into train and validation sets\n",
    "train_df = processed_df[:int(len(processed_df) * train_ratio)]\n",
    "validation_df = processed_df[int(len(processed_df) * train_ratio):]\n",
    "\n",
    "# Convert to Hugging Face Dataset objects\n",
    "train_dataset = Dataset.from_pandas(train_df)\n",
    "validation_dataset = Dataset.from_pandas(validation_df)\n",
    "\n",
    "# Create a DatasetDict\n",
    "dataset_dict = DatasetDict({\"train\": train_dataset, \"validation\": validation_dataset})"
   ],
   "id": "33d67fb0e119ea90",
   "outputs": [],
   "execution_count": 7
  },
  {
   "metadata": {},
   "cell_type": "markdown",
   "source": "### 2. Fine-Tune GPT-2 for News Category Classification",
   "id": "9d11e0243358d965"
  },
  {
   "metadata": {},
   "cell_type": "markdown",
   "source": "#### 2.1. Load GPT-2 Tokenizer and Model",
   "id": "c1d6ace88b585559"
  },
  {
   "metadata": {
    "ExecuteTime": {
     "end_time": "2024-12-11T21:39:05.976235Z",
     "start_time": "2024-12-11T21:39:05.257142Z"
    }
   },
   "cell_type": "code",
   "source": [
    "# Load GPT-2 tokenizer and model\n",
    "if load_local_model:\n",
    "    tokenizer = GPT2Tokenizer.from_pretrained(\"gpt2-english\")\n",
    "    model = GPT2ForSequenceClassification.from_pretrained(\n",
    "        \"gpt2-english\",\n",
    "        num_labels=1  # Adjust based on your task\n",
    "    )\n",
    "else:\n",
    "    tokenizer = GPT2Tokenizer.from_pretrained(\"gpt2\")\n",
    "    model = GPT2ForSequenceClassification.from_pretrained(\"gpt2\", num_labels=1)\n",
    "\n",
    "# Add padding token\n",
    "tokenizer.pad_token = tokenizer.eos_token\n",
    "model.config.pad_token_id = tokenizer.eos_token_id\n",
    "\n",
    "# Calculate the number of trainable parameters\n",
    "trainable_params = sum(p.numel() for p in model.parameters() if p.requires_grad)\n",
    "\n",
    "# Print the number of trainable parameters\n",
    "print(f\"Number of trainable parameters: {trainable_params}\")\n",
    "\n",
    "# Move model to GPU\n",
    "model.to(device)"
   ],
   "id": "207252875fbc2e62",
   "outputs": [
    {
     "name": "stderr",
     "output_type": "stream",
     "text": [
      "Some weights of GPT2ForSequenceClassification were not initialized from the model checkpoint at ./gpt2-english and are newly initialized: ['score.weight']\n",
      "You should probably TRAIN this model on a down-stream task to be able to use it for predictions and inference.\n"
     ]
    },
    {
     "name": "stdout",
     "output_type": "stream",
     "text": [
      "Number of trainable parameters: 124440576\n"
     ]
    },
    {
     "data": {
      "text/plain": [
       "GPT2ForSequenceClassification(\n",
       "  (transformer): GPT2Model(\n",
       "    (wte): Embedding(50257, 768)\n",
       "    (wpe): Embedding(1024, 768)\n",
       "    (drop): Dropout(p=0.1, inplace=False)\n",
       "    (h): ModuleList(\n",
       "      (0-11): 12 x GPT2Block(\n",
       "        (ln_1): LayerNorm((768,), eps=1e-05, elementwise_affine=True)\n",
       "        (attn): GPT2SdpaAttention(\n",
       "          (c_attn): Conv1D(nf=2304, nx=768)\n",
       "          (c_proj): Conv1D(nf=768, nx=768)\n",
       "          (attn_dropout): Dropout(p=0.1, inplace=False)\n",
       "          (resid_dropout): Dropout(p=0.1, inplace=False)\n",
       "        )\n",
       "        (ln_2): LayerNorm((768,), eps=1e-05, elementwise_affine=True)\n",
       "        (mlp): GPT2MLP(\n",
       "          (c_fc): Conv1D(nf=3072, nx=768)\n",
       "          (c_proj): Conv1D(nf=768, nx=3072)\n",
       "          (act): NewGELUActivation()\n",
       "          (dropout): Dropout(p=0.1, inplace=False)\n",
       "        )\n",
       "      )\n",
       "    )\n",
       "    (ln_f): LayerNorm((768,), eps=1e-05, elementwise_affine=True)\n",
       "  )\n",
       "  (score): Linear(in_features=768, out_features=1, bias=False)\n",
       ")"
      ]
     },
     "execution_count": 8,
     "metadata": {},
     "output_type": "execute_result"
    }
   ],
   "execution_count": 8
  },
  {
   "metadata": {},
   "cell_type": "markdown",
   "source": "#### 2.2. Tokenize the Data",
   "id": "e12126baf3ecd220"
  },
  {
   "metadata": {
    "ExecuteTime": {
     "end_time": "2024-12-11T21:39:08.630324Z",
     "start_time": "2024-12-11T21:39:06.011468Z"
    }
   },
   "cell_type": "code",
   "source": [
    "# Tokenization\n",
    "def tokenize_function(example):\n",
    "    encoding = tokenizer(\n",
    "        example[\"text\"],\n",
    "        truncation=True,\n",
    "        padding=\"max_length\",\n",
    "        max_length=512\n",
    "    )\n",
    "    # # Add labels for classification\n",
    "    encoding[\"labels\"] = torch.tensor([example[\"label\"]], dtype=torch.float)\n",
    "    return encoding\n",
    "\n",
    "# Tokenize datasets\n",
    "train_data = dataset_dict[\"train\"].map(tokenize_function)\n",
    "validation_data = dataset_dict[\"validation\"].map(tokenize_function)\n",
    "\n",
    "train_data.set_format(type=\"torch\", columns=[\"input_ids\", \"attention_mask\", \"labels\"])\n",
    "validation_data.set_format(type=\"torch\", columns=[\"input_ids\", \"attention_mask\", \"labels\"])\n",
    "\n",
    "# Check the first tokenized example\n",
    "print(train_data[0])\n",
    "print(validation_data[0])"
   ],
   "id": "ae75a44262c33651",
   "outputs": [
    {
     "name": "stderr",
     "output_type": "stream",
     "text": [
      "Map: 100%|██████████| 761/761 [00:00<00:00, 1565.12 examples/s]\n",
      "Map: 100%|██████████| 85/85 [00:00<00:00, 1448.34 examples/s]"
     ]
    },
    {
     "name": "stdout",
     "output_type": "stream",
     "text": [
      "{'input_ids': tensor([ 7469,   917,   278, 18451, 18461, 10928, 17446, 23676,   843, 36486,\n",
      "         6926,  9170,  7276,    25, 38260,  5218,   383,  6796,   338,  1535,\n",
      "         1337,  2855,   561,  1884,  1085,   284,   257, 20240,   287,   555,\n",
      "        36800, 27244,    13, 50256, 50256, 50256, 50256, 50256, 50256, 50256,\n",
      "        50256, 50256, 50256, 50256, 50256, 50256, 50256, 50256, 50256, 50256,\n",
      "        50256, 50256, 50256, 50256, 50256, 50256, 50256, 50256, 50256, 50256,\n",
      "        50256, 50256, 50256, 50256, 50256, 50256, 50256, 50256, 50256, 50256,\n",
      "        50256, 50256, 50256, 50256, 50256, 50256, 50256, 50256, 50256, 50256,\n",
      "        50256, 50256, 50256, 50256, 50256, 50256, 50256, 50256, 50256, 50256,\n",
      "        50256, 50256, 50256, 50256, 50256, 50256, 50256, 50256, 50256, 50256,\n",
      "        50256, 50256, 50256, 50256, 50256, 50256, 50256, 50256, 50256, 50256,\n",
      "        50256, 50256, 50256, 50256, 50256, 50256, 50256, 50256, 50256, 50256,\n",
      "        50256, 50256, 50256, 50256, 50256, 50256, 50256, 50256, 50256, 50256,\n",
      "        50256, 50256, 50256, 50256, 50256, 50256, 50256, 50256, 50256, 50256,\n",
      "        50256, 50256, 50256, 50256, 50256, 50256, 50256, 50256, 50256, 50256,\n",
      "        50256, 50256, 50256, 50256, 50256, 50256, 50256, 50256, 50256, 50256,\n",
      "        50256, 50256, 50256, 50256, 50256, 50256, 50256, 50256, 50256, 50256,\n",
      "        50256, 50256, 50256, 50256, 50256, 50256, 50256, 50256, 50256, 50256,\n",
      "        50256, 50256, 50256, 50256, 50256, 50256, 50256, 50256, 50256, 50256,\n",
      "        50256, 50256, 50256, 50256, 50256, 50256, 50256, 50256, 50256, 50256,\n",
      "        50256, 50256, 50256, 50256, 50256, 50256, 50256, 50256, 50256, 50256,\n",
      "        50256, 50256, 50256, 50256, 50256, 50256, 50256, 50256, 50256, 50256,\n",
      "        50256, 50256, 50256, 50256, 50256, 50256, 50256, 50256, 50256, 50256,\n",
      "        50256, 50256, 50256, 50256, 50256, 50256, 50256, 50256, 50256, 50256,\n",
      "        50256, 50256, 50256, 50256, 50256, 50256, 50256, 50256, 50256, 50256,\n",
      "        50256, 50256, 50256, 50256, 50256, 50256, 50256, 50256, 50256, 50256,\n",
      "        50256, 50256, 50256, 50256, 50256, 50256, 50256, 50256, 50256, 50256,\n",
      "        50256, 50256, 50256, 50256, 50256, 50256, 50256, 50256, 50256, 50256,\n",
      "        50256, 50256, 50256, 50256, 50256, 50256, 50256, 50256, 50256, 50256,\n",
      "        50256, 50256, 50256, 50256, 50256, 50256, 50256, 50256, 50256, 50256,\n",
      "        50256, 50256, 50256, 50256, 50256, 50256, 50256, 50256, 50256, 50256,\n",
      "        50256, 50256, 50256, 50256, 50256, 50256, 50256, 50256, 50256, 50256,\n",
      "        50256, 50256, 50256, 50256, 50256, 50256, 50256, 50256, 50256, 50256,\n",
      "        50256, 50256, 50256, 50256, 50256, 50256, 50256, 50256, 50256, 50256,\n",
      "        50256, 50256, 50256, 50256, 50256, 50256, 50256, 50256, 50256, 50256,\n",
      "        50256, 50256, 50256, 50256, 50256, 50256, 50256, 50256, 50256, 50256,\n",
      "        50256, 50256, 50256, 50256, 50256, 50256, 50256, 50256, 50256, 50256,\n",
      "        50256, 50256, 50256, 50256, 50256, 50256, 50256, 50256, 50256, 50256,\n",
      "        50256, 50256, 50256, 50256, 50256, 50256, 50256, 50256, 50256, 50256,\n",
      "        50256, 50256, 50256, 50256, 50256, 50256, 50256, 50256, 50256, 50256,\n",
      "        50256, 50256, 50256, 50256, 50256, 50256, 50256, 50256, 50256, 50256,\n",
      "        50256, 50256, 50256, 50256, 50256, 50256, 50256, 50256, 50256, 50256,\n",
      "        50256, 50256, 50256, 50256, 50256, 50256, 50256, 50256, 50256, 50256,\n",
      "        50256, 50256, 50256, 50256, 50256, 50256, 50256, 50256, 50256, 50256,\n",
      "        50256, 50256, 50256, 50256, 50256, 50256, 50256, 50256, 50256, 50256,\n",
      "        50256, 50256, 50256, 50256, 50256, 50256, 50256, 50256, 50256, 50256,\n",
      "        50256, 50256, 50256, 50256, 50256, 50256, 50256, 50256, 50256, 50256,\n",
      "        50256, 50256, 50256, 50256, 50256, 50256, 50256, 50256, 50256, 50256,\n",
      "        50256, 50256, 50256, 50256, 50256, 50256, 50256, 50256, 50256, 50256,\n",
      "        50256, 50256, 50256, 50256, 50256, 50256, 50256, 50256, 50256, 50256,\n",
      "        50256, 50256, 50256, 50256, 50256, 50256, 50256, 50256, 50256, 50256,\n",
      "        50256, 50256]), 'attention_mask': tensor([1, 1, 1, 1, 1, 1, 1, 1, 1, 1, 1, 1, 1, 1, 1, 1, 1, 1, 1, 1, 1, 1, 1, 1,\n",
      "        1, 1, 1, 1, 1, 1, 1, 1, 1, 0, 0, 0, 0, 0, 0, 0, 0, 0, 0, 0, 0, 0, 0, 0,\n",
      "        0, 0, 0, 0, 0, 0, 0, 0, 0, 0, 0, 0, 0, 0, 0, 0, 0, 0, 0, 0, 0, 0, 0, 0,\n",
      "        0, 0, 0, 0, 0, 0, 0, 0, 0, 0, 0, 0, 0, 0, 0, 0, 0, 0, 0, 0, 0, 0, 0, 0,\n",
      "        0, 0, 0, 0, 0, 0, 0, 0, 0, 0, 0, 0, 0, 0, 0, 0, 0, 0, 0, 0, 0, 0, 0, 0,\n",
      "        0, 0, 0, 0, 0, 0, 0, 0, 0, 0, 0, 0, 0, 0, 0, 0, 0, 0, 0, 0, 0, 0, 0, 0,\n",
      "        0, 0, 0, 0, 0, 0, 0, 0, 0, 0, 0, 0, 0, 0, 0, 0, 0, 0, 0, 0, 0, 0, 0, 0,\n",
      "        0, 0, 0, 0, 0, 0, 0, 0, 0, 0, 0, 0, 0, 0, 0, 0, 0, 0, 0, 0, 0, 0, 0, 0,\n",
      "        0, 0, 0, 0, 0, 0, 0, 0, 0, 0, 0, 0, 0, 0, 0, 0, 0, 0, 0, 0, 0, 0, 0, 0,\n",
      "        0, 0, 0, 0, 0, 0, 0, 0, 0, 0, 0, 0, 0, 0, 0, 0, 0, 0, 0, 0, 0, 0, 0, 0,\n",
      "        0, 0, 0, 0, 0, 0, 0, 0, 0, 0, 0, 0, 0, 0, 0, 0, 0, 0, 0, 0, 0, 0, 0, 0,\n",
      "        0, 0, 0, 0, 0, 0, 0, 0, 0, 0, 0, 0, 0, 0, 0, 0, 0, 0, 0, 0, 0, 0, 0, 0,\n",
      "        0, 0, 0, 0, 0, 0, 0, 0, 0, 0, 0, 0, 0, 0, 0, 0, 0, 0, 0, 0, 0, 0, 0, 0,\n",
      "        0, 0, 0, 0, 0, 0, 0, 0, 0, 0, 0, 0, 0, 0, 0, 0, 0, 0, 0, 0, 0, 0, 0, 0,\n",
      "        0, 0, 0, 0, 0, 0, 0, 0, 0, 0, 0, 0, 0, 0, 0, 0, 0, 0, 0, 0, 0, 0, 0, 0,\n",
      "        0, 0, 0, 0, 0, 0, 0, 0, 0, 0, 0, 0, 0, 0, 0, 0, 0, 0, 0, 0, 0, 0, 0, 0,\n",
      "        0, 0, 0, 0, 0, 0, 0, 0, 0, 0, 0, 0, 0, 0, 0, 0, 0, 0, 0, 0, 0, 0, 0, 0,\n",
      "        0, 0, 0, 0, 0, 0, 0, 0, 0, 0, 0, 0, 0, 0, 0, 0, 0, 0, 0, 0, 0, 0, 0, 0,\n",
      "        0, 0, 0, 0, 0, 0, 0, 0, 0, 0, 0, 0, 0, 0, 0, 0, 0, 0, 0, 0, 0, 0, 0, 0,\n",
      "        0, 0, 0, 0, 0, 0, 0, 0, 0, 0, 0, 0, 0, 0, 0, 0, 0, 0, 0, 0, 0, 0, 0, 0,\n",
      "        0, 0, 0, 0, 0, 0, 0, 0, 0, 0, 0, 0, 0, 0, 0, 0, 0, 0, 0, 0, 0, 0, 0, 0,\n",
      "        0, 0, 0, 0, 0, 0, 0, 0]), 'labels': tensor([1.])}\n",
      "{'input_ids': tensor([   45,  6750,  4447, 41814, 41676, 17011,   448,  5218,   220, 50256,\n",
      "        50256, 50256, 50256, 50256, 50256, 50256, 50256, 50256, 50256, 50256,\n",
      "        50256, 50256, 50256, 50256, 50256, 50256, 50256, 50256, 50256, 50256,\n",
      "        50256, 50256, 50256, 50256, 50256, 50256, 50256, 50256, 50256, 50256,\n",
      "        50256, 50256, 50256, 50256, 50256, 50256, 50256, 50256, 50256, 50256,\n",
      "        50256, 50256, 50256, 50256, 50256, 50256, 50256, 50256, 50256, 50256,\n",
      "        50256, 50256, 50256, 50256, 50256, 50256, 50256, 50256, 50256, 50256,\n",
      "        50256, 50256, 50256, 50256, 50256, 50256, 50256, 50256, 50256, 50256,\n",
      "        50256, 50256, 50256, 50256, 50256, 50256, 50256, 50256, 50256, 50256,\n",
      "        50256, 50256, 50256, 50256, 50256, 50256, 50256, 50256, 50256, 50256,\n",
      "        50256, 50256, 50256, 50256, 50256, 50256, 50256, 50256, 50256, 50256,\n",
      "        50256, 50256, 50256, 50256, 50256, 50256, 50256, 50256, 50256, 50256,\n",
      "        50256, 50256, 50256, 50256, 50256, 50256, 50256, 50256, 50256, 50256,\n",
      "        50256, 50256, 50256, 50256, 50256, 50256, 50256, 50256, 50256, 50256,\n",
      "        50256, 50256, 50256, 50256, 50256, 50256, 50256, 50256, 50256, 50256,\n",
      "        50256, 50256, 50256, 50256, 50256, 50256, 50256, 50256, 50256, 50256,\n",
      "        50256, 50256, 50256, 50256, 50256, 50256, 50256, 50256, 50256, 50256,\n",
      "        50256, 50256, 50256, 50256, 50256, 50256, 50256, 50256, 50256, 50256,\n",
      "        50256, 50256, 50256, 50256, 50256, 50256, 50256, 50256, 50256, 50256,\n",
      "        50256, 50256, 50256, 50256, 50256, 50256, 50256, 50256, 50256, 50256,\n",
      "        50256, 50256, 50256, 50256, 50256, 50256, 50256, 50256, 50256, 50256,\n",
      "        50256, 50256, 50256, 50256, 50256, 50256, 50256, 50256, 50256, 50256,\n",
      "        50256, 50256, 50256, 50256, 50256, 50256, 50256, 50256, 50256, 50256,\n",
      "        50256, 50256, 50256, 50256, 50256, 50256, 50256, 50256, 50256, 50256,\n",
      "        50256, 50256, 50256, 50256, 50256, 50256, 50256, 50256, 50256, 50256,\n",
      "        50256, 50256, 50256, 50256, 50256, 50256, 50256, 50256, 50256, 50256,\n",
      "        50256, 50256, 50256, 50256, 50256, 50256, 50256, 50256, 50256, 50256,\n",
      "        50256, 50256, 50256, 50256, 50256, 50256, 50256, 50256, 50256, 50256,\n",
      "        50256, 50256, 50256, 50256, 50256, 50256, 50256, 50256, 50256, 50256,\n",
      "        50256, 50256, 50256, 50256, 50256, 50256, 50256, 50256, 50256, 50256,\n",
      "        50256, 50256, 50256, 50256, 50256, 50256, 50256, 50256, 50256, 50256,\n",
      "        50256, 50256, 50256, 50256, 50256, 50256, 50256, 50256, 50256, 50256,\n",
      "        50256, 50256, 50256, 50256, 50256, 50256, 50256, 50256, 50256, 50256,\n",
      "        50256, 50256, 50256, 50256, 50256, 50256, 50256, 50256, 50256, 50256,\n",
      "        50256, 50256, 50256, 50256, 50256, 50256, 50256, 50256, 50256, 50256,\n",
      "        50256, 50256, 50256, 50256, 50256, 50256, 50256, 50256, 50256, 50256,\n",
      "        50256, 50256, 50256, 50256, 50256, 50256, 50256, 50256, 50256, 50256,\n",
      "        50256, 50256, 50256, 50256, 50256, 50256, 50256, 50256, 50256, 50256,\n",
      "        50256, 50256, 50256, 50256, 50256, 50256, 50256, 50256, 50256, 50256,\n",
      "        50256, 50256, 50256, 50256, 50256, 50256, 50256, 50256, 50256, 50256,\n",
      "        50256, 50256, 50256, 50256, 50256, 50256, 50256, 50256, 50256, 50256,\n",
      "        50256, 50256, 50256, 50256, 50256, 50256, 50256, 50256, 50256, 50256,\n",
      "        50256, 50256, 50256, 50256, 50256, 50256, 50256, 50256, 50256, 50256,\n",
      "        50256, 50256, 50256, 50256, 50256, 50256, 50256, 50256, 50256, 50256,\n",
      "        50256, 50256, 50256, 50256, 50256, 50256, 50256, 50256, 50256, 50256,\n",
      "        50256, 50256, 50256, 50256, 50256, 50256, 50256, 50256, 50256, 50256,\n",
      "        50256, 50256, 50256, 50256, 50256, 50256, 50256, 50256, 50256, 50256,\n",
      "        50256, 50256, 50256, 50256, 50256, 50256, 50256, 50256, 50256, 50256,\n",
      "        50256, 50256, 50256, 50256, 50256, 50256, 50256, 50256, 50256, 50256,\n",
      "        50256, 50256, 50256, 50256, 50256, 50256, 50256, 50256, 50256, 50256,\n",
      "        50256, 50256, 50256, 50256, 50256, 50256, 50256, 50256, 50256, 50256,\n",
      "        50256, 50256]), 'attention_mask': tensor([1, 1, 1, 1, 1, 1, 1, 1, 1, 0, 0, 0, 0, 0, 0, 0, 0, 0, 0, 0, 0, 0, 0, 0,\n",
      "        0, 0, 0, 0, 0, 0, 0, 0, 0, 0, 0, 0, 0, 0, 0, 0, 0, 0, 0, 0, 0, 0, 0, 0,\n",
      "        0, 0, 0, 0, 0, 0, 0, 0, 0, 0, 0, 0, 0, 0, 0, 0, 0, 0, 0, 0, 0, 0, 0, 0,\n",
      "        0, 0, 0, 0, 0, 0, 0, 0, 0, 0, 0, 0, 0, 0, 0, 0, 0, 0, 0, 0, 0, 0, 0, 0,\n",
      "        0, 0, 0, 0, 0, 0, 0, 0, 0, 0, 0, 0, 0, 0, 0, 0, 0, 0, 0, 0, 0, 0, 0, 0,\n",
      "        0, 0, 0, 0, 0, 0, 0, 0, 0, 0, 0, 0, 0, 0, 0, 0, 0, 0, 0, 0, 0, 0, 0, 0,\n",
      "        0, 0, 0, 0, 0, 0, 0, 0, 0, 0, 0, 0, 0, 0, 0, 0, 0, 0, 0, 0, 0, 0, 0, 0,\n",
      "        0, 0, 0, 0, 0, 0, 0, 0, 0, 0, 0, 0, 0, 0, 0, 0, 0, 0, 0, 0, 0, 0, 0, 0,\n",
      "        0, 0, 0, 0, 0, 0, 0, 0, 0, 0, 0, 0, 0, 0, 0, 0, 0, 0, 0, 0, 0, 0, 0, 0,\n",
      "        0, 0, 0, 0, 0, 0, 0, 0, 0, 0, 0, 0, 0, 0, 0, 0, 0, 0, 0, 0, 0, 0, 0, 0,\n",
      "        0, 0, 0, 0, 0, 0, 0, 0, 0, 0, 0, 0, 0, 0, 0, 0, 0, 0, 0, 0, 0, 0, 0, 0,\n",
      "        0, 0, 0, 0, 0, 0, 0, 0, 0, 0, 0, 0, 0, 0, 0, 0, 0, 0, 0, 0, 0, 0, 0, 0,\n",
      "        0, 0, 0, 0, 0, 0, 0, 0, 0, 0, 0, 0, 0, 0, 0, 0, 0, 0, 0, 0, 0, 0, 0, 0,\n",
      "        0, 0, 0, 0, 0, 0, 0, 0, 0, 0, 0, 0, 0, 0, 0, 0, 0, 0, 0, 0, 0, 0, 0, 0,\n",
      "        0, 0, 0, 0, 0, 0, 0, 0, 0, 0, 0, 0, 0, 0, 0, 0, 0, 0, 0, 0, 0, 0, 0, 0,\n",
      "        0, 0, 0, 0, 0, 0, 0, 0, 0, 0, 0, 0, 0, 0, 0, 0, 0, 0, 0, 0, 0, 0, 0, 0,\n",
      "        0, 0, 0, 0, 0, 0, 0, 0, 0, 0, 0, 0, 0, 0, 0, 0, 0, 0, 0, 0, 0, 0, 0, 0,\n",
      "        0, 0, 0, 0, 0, 0, 0, 0, 0, 0, 0, 0, 0, 0, 0, 0, 0, 0, 0, 0, 0, 0, 0, 0,\n",
      "        0, 0, 0, 0, 0, 0, 0, 0, 0, 0, 0, 0, 0, 0, 0, 0, 0, 0, 0, 0, 0, 0, 0, 0,\n",
      "        0, 0, 0, 0, 0, 0, 0, 0, 0, 0, 0, 0, 0, 0, 0, 0, 0, 0, 0, 0, 0, 0, 0, 0,\n",
      "        0, 0, 0, 0, 0, 0, 0, 0, 0, 0, 0, 0, 0, 0, 0, 0, 0, 0, 0, 0, 0, 0, 0, 0,\n",
      "        0, 0, 0, 0, 0, 0, 0, 0]), 'labels': tensor([1.])}\n"
     ]
    },
    {
     "name": "stderr",
     "output_type": "stream",
     "text": [
      "\n"
     ]
    }
   ],
   "execution_count": 9
  },
  {
   "metadata": {},
   "cell_type": "markdown",
   "source": "#### 2.3. Train the Model",
   "id": "a047ea77a574d85d"
  },
  {
   "metadata": {
    "ExecuteTime": {
     "end_time": "2024-12-11T21:49:08.521388Z",
     "start_time": "2024-12-11T21:39:08.642198Z"
    }
   },
   "cell_type": "code",
   "source": [
    "# Training Arguments\n",
    "training_args = TrainingArguments(\n",
    "    output_dir=\"gpt2-news-category\",\n",
    "    eval_strategy=\"epoch\",\n",
    "    learning_rate=2e-5,\n",
    "    per_device_train_batch_size=4,\n",
    "    num_train_epochs=10,\n",
    "    weight_decay=0.01,\n",
    "    save_strategy=\"no\",\n",
    "    save_total_limit=2,\n",
    "    logging_dir=\"./logs\",\n",
    "    logging_steps=10,\n",
    ")\n",
    "\n",
    "# Trainer\n",
    "trainer = Trainer(\n",
    "    model=model,\n",
    "    args=training_args,\n",
    "    train_dataset=train_data,\n",
    "    eval_dataset=validation_data,\n",
    ")\n",
    "\n",
    "# Train the model\n",
    "print(\"Starting training...\")\n",
    "trainer.train()"
   ],
   "id": "97afcb15925da158",
   "outputs": [
    {
     "name": "stdout",
     "output_type": "stream",
     "text": [
      "Starting training...\n"
     ]
    },
    {
     "data": {
      "text/plain": [
       "<IPython.core.display.HTML object>"
      ],
      "text/html": [
       "\n",
       "    <div>\n",
       "      \n",
       "      <progress value='1910' max='1910' style='width:300px; height:20px; vertical-align: middle;'></progress>\n",
       "      [1910/1910 09:58, Epoch 10/10]\n",
       "    </div>\n",
       "    <table border=\"1\" class=\"dataframe\">\n",
       "  <thead>\n",
       " <tr style=\"text-align: left;\">\n",
       "      <th>Epoch</th>\n",
       "      <th>Training Loss</th>\n",
       "      <th>Validation Loss</th>\n",
       "    </tr>\n",
       "  </thead>\n",
       "  <tbody>\n",
       "    <tr>\n",
       "      <td>1</td>\n",
       "      <td>0.274500</td>\n",
       "      <td>0.243350</td>\n",
       "    </tr>\n",
       "    <tr>\n",
       "      <td>2</td>\n",
       "      <td>0.231100</td>\n",
       "      <td>0.205587</td>\n",
       "    </tr>\n",
       "    <tr>\n",
       "      <td>3</td>\n",
       "      <td>0.262100</td>\n",
       "      <td>0.224952</td>\n",
       "    </tr>\n",
       "    <tr>\n",
       "      <td>4</td>\n",
       "      <td>0.246600</td>\n",
       "      <td>0.214760</td>\n",
       "    </tr>\n",
       "    <tr>\n",
       "      <td>5</td>\n",
       "      <td>0.197300</td>\n",
       "      <td>0.189380</td>\n",
       "    </tr>\n",
       "    <tr>\n",
       "      <td>6</td>\n",
       "      <td>0.095500</td>\n",
       "      <td>0.189205</td>\n",
       "    </tr>\n",
       "    <tr>\n",
       "      <td>7</td>\n",
       "      <td>0.137600</td>\n",
       "      <td>0.180157</td>\n",
       "    </tr>\n",
       "    <tr>\n",
       "      <td>8</td>\n",
       "      <td>0.085900</td>\n",
       "      <td>0.173652</td>\n",
       "    </tr>\n",
       "    <tr>\n",
       "      <td>9</td>\n",
       "      <td>0.112200</td>\n",
       "      <td>0.170799</td>\n",
       "    </tr>\n",
       "    <tr>\n",
       "      <td>10</td>\n",
       "      <td>0.064200</td>\n",
       "      <td>0.174499</td>\n",
       "    </tr>\n",
       "  </tbody>\n",
       "</table><p>"
      ]
     },
     "metadata": {},
     "output_type": "display_data"
    },
    {
     "data": {
      "text/plain": [
       "TrainOutput(global_step=1910, training_loss=0.1634172509790091, metrics={'train_runtime': 599.4784, 'train_samples_per_second': 12.694, 'train_steps_per_second': 3.186, 'total_flos': 1988450317762560.0, 'train_loss': 0.1634172509790091, 'epoch': 10.0})"
      ]
     },
     "execution_count": 10,
     "metadata": {},
     "output_type": "execute_result"
    }
   ],
   "execution_count": 10
  },
  {
   "metadata": {},
   "cell_type": "markdown",
   "source": "#### 2.4. Save the Fine-Tuned Model and Tokenizer",
   "id": "14ded5c031f00a6b"
  },
  {
   "metadata": {
    "ExecuteTime": {
     "end_time": "2024-12-11T21:49:09.671607Z",
     "start_time": "2024-12-11T21:49:08.696281Z"
    }
   },
   "cell_type": "code",
   "source": [
    "# Save the fine-tuned model and tokenizer\n",
    "model.save_pretrained(\"./gpt2-news-category\")\n",
    "tokenizer.save_pretrained(\"./gpt2-news-category\")\n",
    "\n",
    "print(\"Model and tokenizer saved.\")"
   ],
   "id": "2dbc31ef636ef336",
   "outputs": [
    {
     "name": "stdout",
     "output_type": "stream",
     "text": [
      "Model and tokenizer saved.\n"
     ]
    }
   ],
   "execution_count": 11
  },
  {
   "metadata": {},
   "cell_type": "markdown",
   "source": "### 3. Evaluation and Visualization",
   "id": "a2be3fd149c90757"
  },
  {
   "metadata": {},
   "cell_type": "markdown",
   "source": "#### 3.1. Load the Fine-Tuned Model and Tokenizer",
   "id": "b319ac3663079435"
  },
  {
   "metadata": {
    "ExecuteTime": {
     "end_time": "2024-12-11T21:49:09.812343Z",
     "start_time": "2024-12-11T21:49:09.675884Z"
    }
   },
   "cell_type": "code",
   "source": [
    "# Load the fine-tuned model and tokenizer\n",
    "model_path = \"gpt2-news-category\"\n",
    "tokenizer = GPT2Tokenizer.from_pretrained(model_path)\n",
    "model = GPT2ForSequenceClassification.from_pretrained(model_path)\n",
    "model.eval()  # Set the model to evaluation mode\n",
    "\n",
    "# Add padding token (if not already set)\n",
    "tokenizer.pad_token = tokenizer.eos_token\n",
    "model.config.pad_token_id = tokenizer.eos_token_id"
   ],
   "id": "ba775c46aeab72d9",
   "outputs": [],
   "execution_count": 12
  },
  {
   "metadata": {},
   "cell_type": "markdown",
   "source": "#### 3.2. Load and Prepare Validation Data",
   "id": "fbd1093a02ce99b4"
  },
  {
   "metadata": {
    "ExecuteTime": {
     "end_time": "2024-12-11T21:49:49.038145Z",
     "start_time": "2024-12-11T21:49:09.829059Z"
    }
   },
   "cell_type": "code",
   "source": [
    "# Prepare DataLoader for evaluation\n",
    "validation_loader = DataLoader(validation_data, batch_size=16)\n",
    "\n",
    "# Evaluate the model\n",
    "true_labels = []\n",
    "predicted_scores = []\n",
    "\n",
    "with torch.no_grad():\n",
    "    for batch in validation_loader:\n",
    "        input_ids = batch[\"input_ids\"].to(model.device)\n",
    "        attention_mask = batch[\"attention_mask\"].to(model.device)\n",
    "        labels = batch[\"labels\"].to(model.device)\n",
    "\n",
    "        # Get model outputs\n",
    "        outputs = model(input_ids=input_ids, attention_mask=attention_mask)\n",
    "        logits = outputs.logits.squeeze(-1)  # Extract logits for regression\n",
    "        predictions = torch.sigmoid(logits)  # Apply sigmoid to map to [0, 1]\n",
    "\n",
    "        # Collect true and predicted scores\n",
    "        true_labels.extend(labels.cpu().numpy())\n",
    "        predicted_scores.extend(predictions.cpu().numpy())\n",
    "\n",
    "# Convert to numpy arrays and flatten where necessary\n",
    "true_labels = np.array(true_labels).flatten()\n",
    "predicted_scores = np.array(predicted_scores)"
   ],
   "id": "117296aa4b494fc5",
   "outputs": [],
   "execution_count": 13
  },
  {
   "metadata": {},
   "cell_type": "markdown",
   "source": "#### 3.3. Calculate Metrics and Visualize Results",
   "id": "99153406d61dc423"
  },
  {
   "metadata": {
    "ExecuteTime": {
     "end_time": "2024-12-11T21:49:50.000577Z",
     "start_time": "2024-12-11T21:49:49.522577Z"
    }
   },
   "cell_type": "code",
   "source": [
    "# Metrics calculation\n",
    "mse = mean_squared_error(true_labels, predicted_scores)\n",
    "mae = mean_absolute_error(true_labels, predicted_scores)\n",
    "r2 = r2_score(true_labels, predicted_scores)\n",
    "\n",
    "from scipy.stats import pearsonr, spearmanr\n",
    "\n",
    "# Debug: Check true_labels and predicted_scores\n",
    "print(\"True Labels:\", true_labels[:10])\n",
    "print(\"Predicted Scores:\", predicted_scores[:10])\n",
    "\n",
    "# Ensure Pearson and Spearman are scalar values\n",
    "pearson_corr, _ = pearsonr(true_labels, predicted_scores)\n",
    "spearman_corr, _ = spearmanr(true_labels, predicted_scores)\n",
    "\n",
    "# Print metrics\n",
    "print(\"Evaluation Metrics:\")\n",
    "print(f\"Mean Squared Error (MSE): {mse:.4f}\")\n",
    "print(f\"Mean Absolute Error (MAE): {mae:.4f}\")\n",
    "print(f\"R-squared (R²): {r2:.4f}\")\n",
    "print(f\"Pearson Correlation Coefficient: {pearson_corr:.4f}\")\n",
    "print(f\"Spearman Rank Correlation: {spearman_corr:.4f}\")\n",
    "\n",
    "# Visualization: Scatter Plot\n",
    "plt.figure(figsize=(8, 6))\n",
    "plt.scatter(true_labels, predicted_scores, alpha=0.6, label=\"Predictions\")\n",
    "plt.plot([0, 1], [0, 1], \"r--\", label=\"Ideal Prediction\")\n",
    "plt.title(\"True vs. Predicted Similarity Scores\")\n",
    "plt.xlabel(\"True Similarity Score\")\n",
    "plt.ylabel(\"Predicted Similarity Score\")\n",
    "plt.legend()\n",
    "plt.grid()\n",
    "plt.show()\n",
    "\n",
    "# Visualization: Residual Plot\n",
    "residuals = true_labels - predicted_scores\n",
    "plt.figure(figsize=(8, 6))\n",
    "plt.scatter(predicted_scores, residuals, alpha=0.6, label=\"Residuals\")\n",
    "plt.axhline(0, color=\"red\", linestyle=\"--\", label=\"Zero Residual Line\")\n",
    "plt.title(\"Residual Plot\")\n",
    "plt.xlabel(\"Predicted Similarity Score\")\n",
    "plt.ylabel(\"Residuals\")\n",
    "plt.legend()\n",
    "plt.grid()\n",
    "plt.show()\n",
    "\n",
    "# Visualization: Histogram of Residuals\n",
    "plt.figure(figsize=(8, 6))\n",
    "plt.hist(residuals, bins=20, alpha=0.75, edgecolor=\"black\")\n",
    "plt.title(\"Histogram of Residuals\")\n",
    "plt.xlabel(\"Residuals\")\n",
    "plt.ylabel(\"Frequency\")\n",
    "plt.grid()\n",
    "plt.show()"
   ],
   "id": "868a5afef93e84de",
   "outputs": [
    {
     "name": "stdout",
     "output_type": "stream",
     "text": [
      "True Labels: [1.  0.2 0.  1.  0.2 0.  1.  0.2 0.  1. ]\n",
      "Predicted Scores: [0.57219636 0.5271642  0.5523982  0.7714609  0.7161853  0.53443104\n",
      " 0.5492801  0.5916723  0.5661931  0.78788656]\n",
      "Evaluation Metrics:\n",
      "Mean Squared Error (MSE): 0.2053\n",
      "Mean Absolute Error (MAE): 0.4341\n",
      "R-squared (R²): -0.0802\n",
      "Pearson Correlation Coefficient: 0.4292\n",
      "Spearman Rank Correlation: 0.2676\n"
     ]
    },
    {
     "data": {
      "text/plain": [
       "<Figure size 800x600 with 1 Axes>"
      ],
      "image/png": "[encoded data removed]"
     },
     "metadata": {},
     "output_type": "display_data"
    },
    {
     "data": {
      "text/plain": [
       "<Figure size 800x600 with 1 Axes>"
      ],
      "image/png": "[encoded data removed]"
     },
     "metadata": {},
     "output_type": "display_data"
    },
    {
     "data": {
      "text/plain": [
       "<Figure size 800x600 with 1 Axes>"
      ],
      "image/png": "[encoded data removed]"
     },
     "metadata": {},
     "output_type": "display_data"
    }
   ],
   "execution_count": 14
  },
  {
   "metadata": {},
   "cell_type": "markdown",
   "source": "### 4. Inference with the Fine-Tuned Model",
   "id": "83de0a3227af02f2"
  },
  {
   "metadata": {
    "ExecuteTime": {
     "end_time": "2024-12-11T21:49:50.787488Z",
     "start_time": "2024-12-11T21:49:50.415885Z"
    }
   },
   "cell_type": "code",
   "source": [
    "# Single prompt and ground truth\n",
    "prompt = \"Breaking news: A significant breakthrough in AI technology!\"\n",
    "ground_truth = \"AI technology has made a significant breakthrough in the field of robotics.\"\n",
    "real_similarity = 1.0\n",
    "\n",
    "# Tokenize the prompt\n",
    "inputs = prompt + \" => \" + ground_truth\n",
    "inputs = tokenizer(inputs, return_tensors=\"pt\", padding=True, truncation=True, max_length=512)\n",
    "\n",
    "model.to(device)\n",
    "inputs = {key: val.to(device) for key, val in inputs.items()}\n",
    "\n",
    "# Get the model's similarity score\n",
    "with torch.no_grad():\n",
    "    outputs = model(**inputs)\n",
    "    predicted_similarity = torch.sigmoid(outputs.logits).item()  # Convert logits to probability\n",
    "\n",
    "# Print results\n",
    "print(f\"Input Prompt: {prompt}\")\n",
    "print(f\"Ground Truth: {ground_truth}\")\n",
    "print(f\"Predicted Similarity Score: {predicted_similarity:.4f}\")\n",
    "print(f\"Real Similarity Score: {real_similarity}\")\n",
    "\n",
    "# Optional: Compare predicted score with ground truth\n",
    "error = abs(predicted_similarity - real_similarity)\n",
    "print(f\"Absolute Error: {error:.4f}\")"
   ],
   "id": "49814b4fbb1f2c83",
   "outputs": [
    {
     "name": "stdout",
     "output_type": "stream",
     "text": [
      "Input Prompt: Breaking news: A significant breakthrough in AI technology!\n",
      "Ground Truth: AI technology has made a significant breakthrough in the field of robotics.\n",
      "Predicted Similarity Score: 0.7002\n",
      "Real Similarity Score: 1.0\n",
      "Absolute Error: 0.2998\n"
     ]
    }
   ],
   "execution_count": 15
  }
 ],
 "metadata": {
  "kernelspec": {
   "display_name": "Python 3",
   "language": "python",
   "name": "python3"
  },
  "language_info": {
   "codemirror_mode": {
    "name": "ipython",
    "version": 2
   },
   "file_extension": ".py",
   "mimetype": "text/x-python",
   "name": "python",
   "nbconvert_exporter": "python",
   "pygments_lexer": "ipython2",
   "version": "2.7.6"
  }
 },
 "nbformat": 4,
 "nbformat_minor": 5
}
